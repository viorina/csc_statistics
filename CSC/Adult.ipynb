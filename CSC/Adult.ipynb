{
 "cells": [
  {
   "cell_type": "code",
   "execution_count": 1,
   "metadata": {},
   "outputs": [],
   "source": [
    "options(warn=-1)"
   ]
  },
  {
   "cell_type": "code",
   "execution_count": 36,
   "metadata": {},
   "outputs": [],
   "source": [
    "library(aod)\n",
    "library(caret)\n",
    "library(dplyr)\n",
    "library(forcats)\n",
    "library(ggplot2)\n",
    "library(MASS)\n",
    "library(matrixStats)\n",
    "library(MLmetrics)\n",
    "library(skimr)\n",
    "library(stats)\n",
    "library(stringdist)\n",
    "library(tidyr)\n",
    "library(vcd)"
   ]
  },
  {
   "cell_type": "code",
   "execution_count": 3,
   "metadata": {},
   "outputs": [],
   "source": [
    "size <- 10000"
   ]
  },
  {
   "cell_type": "markdown",
   "metadata": {},
   "source": [
    "### I. Data preprocessing"
   ]
  },
  {
   "cell_type": "code",
   "execution_count": 4,
   "metadata": {},
   "outputs": [],
   "source": [
    "data <- read.table('adult.data', sep=',')"
   ]
  },
  {
   "cell_type": "code",
   "execution_count": 5,
   "metadata": {},
   "outputs": [],
   "source": [
    "colnames(data) <- scan('adult.names', what=character(), sep='\\n')"
   ]
  },
  {
   "cell_type": "code",
   "execution_count": 6,
   "metadata": {},
   "outputs": [],
   "source": [
    "data$`native-country`[as.character(data$`native-country`) == ' ?'] <- NA\n",
    "data$workclass[as.character(data$workclass) == ' ?'] <- NA\n",
    "data$occupation[as.character(data$occupation) == ' ?'] <- NA"
   ]
  },
  {
   "cell_type": "code",
   "execution_count": 7,
   "metadata": {
    "scrolled": true
   },
   "outputs": [
    {
     "data": {
      "text/html": [
       "<table>\n",
       "<thead><tr><th scope=col>age</th><th scope=col>workclass</th><th scope=col>fnlwgt</th><th scope=col>education</th><th scope=col>education-num</th><th scope=col>marital-status</th><th scope=col>occupation</th><th scope=col>relationship</th><th scope=col>race</th><th scope=col>sex</th><th scope=col>capital-gain</th><th scope=col>capital-loss</th><th scope=col>hours-per-week</th><th scope=col>native-country</th><th scope=col>income</th></tr></thead>\n",
       "<tbody>\n",
       "\t<tr><td>39                                                         </td><td><span style=white-space:pre-wrap> State-gov       </span>  </td><td> 77516                                                     </td><td> Bachelors                                                 </td><td>13                                                         </td><td><span style=white-space:pre-wrap> Never-married     </span></td><td><span style=white-space:pre-wrap> Adm-clerical     </span> </td><td> Not-in-family                                             </td><td> White                                                     </td><td><span style=white-space:pre-wrap> Male  </span>            </td><td>2174                                                       </td><td>0                                                          </td><td>40                                                         </td><td> United-States                                             </td><td> &lt;=50K                                                  </td></tr>\n",
       "\t<tr><td>50                                                        </td><td> Self-emp-not-inc                                         </td><td> 83311                                                    </td><td> Bachelors                                                </td><td>13                                                        </td><td> Married-civ-spouse                                       </td><td><span style=white-space:pre-wrap> Exec-managerial  </span></td><td><span style=white-space:pre-wrap> Husband      </span>    </td><td> White                                                    </td><td><span style=white-space:pre-wrap> Male  </span>           </td><td><span style=white-space:pre-wrap>   0</span>              </td><td>0                                                         </td><td>13                                                        </td><td> United-States                                            </td><td> &lt;=50K                                                 </td></tr>\n",
       "\t<tr><td>38                                                         </td><td><span style=white-space:pre-wrap> Private         </span>  </td><td>215646                                                     </td><td><span style=white-space:pre-wrap> HS-grad  </span>         </td><td> 9                                                         </td><td><span style=white-space:pre-wrap> Divorced          </span></td><td> Handlers-cleaners                                         </td><td> Not-in-family                                             </td><td> White                                                     </td><td><span style=white-space:pre-wrap> Male  </span>            </td><td><span style=white-space:pre-wrap>   0</span>               </td><td>0                                                          </td><td>40                                                         </td><td> United-States                                             </td><td> &lt;=50K                                                  </td></tr>\n",
       "\t<tr><td>53                                                       </td><td><span style=white-space:pre-wrap> Private         </span></td><td>234721                                                   </td><td><span style=white-space:pre-wrap> 11th     </span>       </td><td> 7                                                       </td><td> Married-civ-spouse                                      </td><td> Handlers-cleaners                                       </td><td><span style=white-space:pre-wrap> Husband      </span>   </td><td> Black                                                   </td><td><span style=white-space:pre-wrap> Male  </span>          </td><td><span style=white-space:pre-wrap>   0</span>             </td><td>0                                                        </td><td>40                                                       </td><td> United-States                                           </td><td> &lt;=50K                                                </td></tr>\n",
       "\t<tr><td>28                                                        </td><td><span style=white-space:pre-wrap> Private         </span> </td><td>338409                                                    </td><td> Bachelors                                                </td><td>13                                                        </td><td> Married-civ-spouse                                       </td><td><span style=white-space:pre-wrap> Prof-specialty   </span></td><td><span style=white-space:pre-wrap> Wife         </span>    </td><td> Black                                                    </td><td> Female                                                   </td><td><span style=white-space:pre-wrap>   0</span>              </td><td>0                                                         </td><td>40                                                        </td><td><span style=white-space:pre-wrap> Cuba         </span>    </td><td> &lt;=50K                                                 </td></tr>\n",
       "\t<tr><td>37                                                        </td><td><span style=white-space:pre-wrap> Private         </span> </td><td>284582                                                    </td><td><span style=white-space:pre-wrap> Masters  </span>        </td><td>14                                                        </td><td> Married-civ-spouse                                       </td><td><span style=white-space:pre-wrap> Exec-managerial  </span></td><td><span style=white-space:pre-wrap> Wife         </span>    </td><td> White                                                    </td><td> Female                                                   </td><td><span style=white-space:pre-wrap>   0</span>              </td><td>0                                                         </td><td>40                                                        </td><td> United-States                                            </td><td> &lt;=50K                                                 </td></tr>\n",
       "</tbody>\n",
       "</table>\n"
      ],
      "text/latex": [
       "\\begin{tabular}{r|lllllllllllllll}\n",
       " age & workclass & fnlwgt & education & education-num & marital-status & occupation & relationship & race & sex & capital-gain & capital-loss & hours-per-week & native-country & income\\\\\n",
       "\\hline\n",
       "\t 39                  &  State-gov          &  77516              &  Bachelors          & 13                  &  Never-married      &  Adm-clerical       &  Not-in-family      &  White              &  Male               & 2174                & 0                   & 40                  &  United-States      &  <=50K             \\\\\n",
       "\t 50                  &  Self-emp-not-inc   &  83311              &  Bachelors          & 13                  &  Married-civ-spouse &  Exec-managerial    &  Husband            &  White              &  Male               &    0                & 0                   & 13                  &  United-States      &  <=50K             \\\\\n",
       "\t 38                  &  Private            & 215646              &  HS-grad            &  9                  &  Divorced           &  Handlers-cleaners  &  Not-in-family      &  White              &  Male               &    0                & 0                   & 40                  &  United-States      &  <=50K             \\\\\n",
       "\t 53                  &  Private            & 234721              &  11th               &  7                  &  Married-civ-spouse &  Handlers-cleaners  &  Husband            &  Black              &  Male               &    0                & 0                   & 40                  &  United-States      &  <=50K             \\\\\n",
       "\t 28                  &  Private            & 338409              &  Bachelors          & 13                  &  Married-civ-spouse &  Prof-specialty     &  Wife               &  Black              &  Female             &    0                & 0                   & 40                  &  Cuba               &  <=50K             \\\\\n",
       "\t 37                  &  Private            & 284582              &  Masters            & 14                  &  Married-civ-spouse &  Exec-managerial    &  Wife               &  White              &  Female             &    0                & 0                   & 40                  &  United-States      &  <=50K             \\\\\n",
       "\\end{tabular}\n"
      ],
      "text/markdown": [
       "\n",
       "| age | workclass | fnlwgt | education | education-num | marital-status | occupation | relationship | race | sex | capital-gain | capital-loss | hours-per-week | native-country | income |\n",
       "|---|---|---|---|---|---|---|---|---|---|---|---|---|---|---|\n",
       "| 39                  |  State-gov          |  77516              |  Bachelors          | 13                  |  Never-married      |  Adm-clerical       |  Not-in-family      |  White              |  Male               | 2174                | 0                   | 40                  |  United-States      |  <=50K              |\n",
       "| 50                  |  Self-emp-not-inc   |  83311              |  Bachelors          | 13                  |  Married-civ-spouse |  Exec-managerial    |  Husband            |  White              |  Male               |    0                | 0                   | 13                  |  United-States      |  <=50K              |\n",
       "| 38                  |  Private            | 215646              |  HS-grad            |  9                  |  Divorced           |  Handlers-cleaners  |  Not-in-family      |  White              |  Male               |    0                | 0                   | 40                  |  United-States      |  <=50K              |\n",
       "| 53                  |  Private            | 234721              |  11th               |  7                  |  Married-civ-spouse |  Handlers-cleaners  |  Husband            |  Black              |  Male               |    0                | 0                   | 40                  |  United-States      |  <=50K              |\n",
       "| 28                  |  Private            | 338409              |  Bachelors          | 13                  |  Married-civ-spouse |  Prof-specialty     |  Wife               |  Black              |  Female             |    0                | 0                   | 40                  |  Cuba               |  <=50K              |\n",
       "| 37                  |  Private            | 284582              |  Masters            | 14                  |  Married-civ-spouse |  Exec-managerial    |  Wife               |  White              |  Female             |    0                | 0                   | 40                  |  United-States      |  <=50K              |\n",
       "\n"
      ],
      "text/plain": [
       "  age workclass         fnlwgt education  education-num marital-status     \n",
       "1 39   State-gov         77516  Bachelors 13             Never-married     \n",
       "2 50   Self-emp-not-inc  83311  Bachelors 13             Married-civ-spouse\n",
       "3 38   Private          215646  HS-grad    9             Divorced          \n",
       "4 53   Private          234721  11th       7             Married-civ-spouse\n",
       "5 28   Private          338409  Bachelors 13             Married-civ-spouse\n",
       "6 37   Private          284582  Masters   14             Married-civ-spouse\n",
       "  occupation         relationship   race   sex     capital-gain capital-loss\n",
       "1  Adm-clerical       Not-in-family  White  Male   2174         0           \n",
       "2  Exec-managerial    Husband        White  Male      0         0           \n",
       "3  Handlers-cleaners  Not-in-family  White  Male      0         0           \n",
       "4  Handlers-cleaners  Husband        Black  Male      0         0           \n",
       "5  Prof-specialty     Wife           Black  Female    0         0           \n",
       "6  Exec-managerial    Wife           White  Female    0         0           \n",
       "  hours-per-week native-country income\n",
       "1 40              United-States  <=50K\n",
       "2 13              United-States  <=50K\n",
       "3 40              United-States  <=50K\n",
       "4 40              United-States  <=50K\n",
       "5 40              Cuba           <=50K\n",
       "6 40              United-States  <=50K"
      ]
     },
     "metadata": {},
     "output_type": "display_data"
    }
   ],
   "source": [
    "head(data)"
   ]
  },
  {
   "cell_type": "code",
   "execution_count": 8,
   "metadata": {},
   "outputs": [],
   "source": [
    "data$income <- factor(data$income, order=T, levels=c(' <=50K', ' >50K'))"
   ]
  },
  {
   "cell_type": "markdown",
   "metadata": {},
   "source": [
    "Remove redundant features."
   ]
  },
  {
   "cell_type": "code",
   "execution_count": 9,
   "metadata": {},
   "outputs": [],
   "source": [
    "data$`education-num` <- NULL\n",
    "data$`relationship` <- NULL\n",
    "data$occupation <- NULL\n",
    "data$fnlwgt <- NULL"
   ]
  },
  {
   "cell_type": "markdown",
   "metadata": {},
   "source": [
    "Reducing number of levels of some factors."
   ]
  },
  {
   "cell_type": "code",
   "execution_count": 10,
   "metadata": {},
   "outputs": [],
   "source": [
    "data <- mutate(data, workclass = fct_collapse(workclass, Gov = c(' State-gov', ' Federal-gov', ' Local-gov')))\n",
    "data <- mutate(data, workclass = fct_collapse(workclass, Self_employed = c(' Self-emp-not-inc', ' Self-emp-inc')))\n",
    "data <- mutate(data, workclass = fct_collapse(workclass, Not_working = c(' Without-Pay', ' Never-worked')))"
   ]
  },
  {
   "cell_type": "code",
   "execution_count": 11,
   "metadata": {},
   "outputs": [],
   "source": [
    "data <- mutate(data, education = fct_collapse(education, School = c(' 10th', ' 11th', ' 12th', ' 1st-4th', \n",
    "                                                                    ' 5th-6th', ' 7th-8th', ' 9th', ' Preschool', \n",
    "                                                                    ' HS-grad')))\n",
    "data <- mutate(data, education = fct_collapse(education, Associates = c(' Assoc-acdm', ' Assoc-voc')))\n",
    "\n",
    "data$education <- factor(data$education, order=T, levels=c('School', ' Prof-school', 'Associates', ' Some-college', \n",
    "                                                           ' Bachelors', ' Masters', ' Doctorate'))"
   ]
  },
  {
   "cell_type": "code",
   "execution_count": 12,
   "metadata": {},
   "outputs": [],
   "source": [
    "europe <- c(' England', ' France', ' Germany', ' Greece', ' Holand-Netherlands', ' Hungary', ' Ireland', ' Italy', ' Poland', ' Portugal', ' Scotland', ' Yugoslavia')\n",
    "asia <- c(' Cambodia', ' China', ' Hong', ' India', ' Japan', ' Laos', ' Philippines', ' Taiwan', ' Thailand', ' Vietnam')\n",
    "central_america <- c(' Cuba', ' Dominican-Republic', ' El-Salvador', ' Guatemala', ' Haiti', ' Honduras', ' Jamaica', ' Mexico', ' Nicaragua', ' Puerto-Rico', ' Trinadad&Tobago')\n",
    "south_america <- c(' Columbia', ' Ecuador', ' Peru')\n",
    "usa <- c(' United-States', ' Outlying-US(Guam-USVI-etc)')\n",
    "\n",
    "data <- mutate(data, `native-country` = fct_collapse(`native-country`, Europe = europe))\n",
    "data <- mutate(data, `native-country` = fct_collapse(`native-country`, Asia = asia))\n",
    "data <- mutate(data, `native-country` = fct_collapse(`native-country`, Central_America = central_america))\n",
    "data <- mutate(data, `native-country` = fct_collapse(`native-country`, South_America = south_america))\n",
    "data <- mutate(data, `native-country` = fct_collapse(`native-country`, USA = usa))"
   ]
  },
  {
   "cell_type": "code",
   "execution_count": 13,
   "metadata": {},
   "outputs": [],
   "source": [
    "data <- mutate(data, `marital-status` = fct_collapse(`marital-status`, Married = c(' Married-AF-spouse', \n",
    "                                                                                   ' Married-civ-spouse')))\n",
    "data <- mutate(data, `marital-status` = fct_collapse(`marital-status`, Not_married = c(' Married-spouse-absent', \n",
    "                                                                                       ' Separated', ' Divorced')))"
   ]
  },
  {
   "cell_type": "markdown",
   "metadata": {},
   "source": [
    "Categorize some features."
   ]
  },
  {
   "cell_type": "code",
   "execution_count": 14,
   "metadata": {},
   "outputs": [],
   "source": [
    "age_factors <- function(x) {\n",
    "    if (x <= 25) {\n",
    "        return('Young')\n",
    "    } else if (x <= 45) {\n",
    "        return('Middle-aged')\n",
    "    } else if (x <= 65) {\n",
    "        return('Senior')\n",
    "    } else {\n",
    "        return('Old')\n",
    "    }\n",
    "}\n",
    "\n",
    "data$age <- sapply(data$age, age_factors)"
   ]
  },
  {
   "cell_type": "code",
   "execution_count": 15,
   "metadata": {},
   "outputs": [],
   "source": [
    "job_factors <- function(x) {\n",
    "    if (x <= 25) {\n",
    "        return('Part-time')\n",
    "    } else if (x <= 40) {\n",
    "        return('Full-time')\n",
    "    } else {\n",
    "        return('Over-time')\n",
    "    }\n",
    "}\n",
    "\n",
    "data$`hours-per-week` <- sapply(data$`hours-per-week`, job_factors)"
   ]
  },
  {
   "cell_type": "code",
   "execution_count": 16,
   "metadata": {},
   "outputs": [],
   "source": [
    "capital_factors <- function(x) {\n",
    "    if (x == 0) {\n",
    "        return('None')\n",
    "    } else if (x <= med) {\n",
    "        return('Low')\n",
    "    } else {\n",
    "        return('High')\n",
    "    }\n",
    "}\n",
    "\n",
    "med <- median(data$`capital-gain`[data$`capital-gain` != 0])\n",
    "data$`capital-gain` <- sapply(data$`capital-gain`, capital_factors)\n",
    "\n",
    "med <- median(data$`capital-loss`[data$`capital-loss` != 0])\n",
    "data$`capital-loss` <- sapply(data$`capital-loss`, capital_factors)"
   ]
  },
  {
   "cell_type": "code",
   "execution_count": 17,
   "metadata": {},
   "outputs": [],
   "source": [
    "nominal_features <- c('workclass', 'marital-status', 'age', 'hours-per-week', 'capital-gain', 'capital-loss', \n",
    "                      'native-country')\n",
    "\n",
    "data[nominal_features] <- lapply(data[nominal_features], as.factor)"
   ]
  },
  {
   "cell_type": "markdown",
   "metadata": {},
   "source": [
    "Handle imbalanced target classes by removing a part of samples."
   ]
  },
  {
   "cell_type": "code",
   "execution_count": 18,
   "metadata": {},
   "outputs": [],
   "source": [
    "small_income <- data[data$income == ' <=50K',]\n",
    "large_income <- data[data$income == ' >50K',]\n",
    "sample <- small_income[sample(nrow(small_income), size), ]"
   ]
  },
  {
   "cell_type": "code",
   "execution_count": 19,
   "metadata": {},
   "outputs": [],
   "source": [
    "data <- rbind(sample, large_income)\n",
    "data <- slice(data, sample(1:n()))\n",
    "rownames(data) <- NULL"
   ]
  },
  {
   "cell_type": "code",
   "execution_count": 20,
   "metadata": {},
   "outputs": [
    {
     "data": {
      "text/html": [
       "<strong>$factor</strong> = <table>\n",
       "<thead><tr><th scope=col>variable</th><th scope=col>missing</th><th scope=col>complete</th><th scope=col>n</th><th scope=col>n_unique</th><th scope=col>top_counts</th><th scope=col>ordered</th></tr></thead>\n",
       "<tbody>\n",
       "\t<tr><td>age                                       </td><td>0                                         </td><td>17841                                     </td><td>17841                                     </td><td>4                                         </td><td>Mid: 9372, Sen: 5269, You: 2617, Old: 583 </td><td>FALSE                                     </td></tr>\n",
       "\t<tr><td>capital-gain                              </td><td>0                                         </td><td>17841                                     </td><td>17841                                     </td><td>3                                         </td><td>Non: 15746, Hig: 1143, Low: 952, NA: 0    </td><td>FALSE                                     </td></tr>\n",
       "\t<tr><td>capital-loss                              </td><td>0                                         </td><td>17841                                     </td><td>17841                                     </td><td>3                                         </td><td>Non: 16758, Hig: 596, Low: 487, NA: 0     </td><td>FALSE                                     </td></tr>\n",
       "\t<tr><td>education                                 </td><td>0                                         </td><td>17841                                     </td><td>17841                                     </td><td>7                                         </td><td>Sch: 7045,  So: 3790,  Ba: 3500, Ass: 1396</td><td>TRUE                                      </td></tr>\n",
       "\t<tr><td>hours-per-week                            </td><td>0                                         </td><td>17841                                     </td><td>17841                                     </td><td>3                                         </td><td>Ful: 9914, Ove: 6219, Par: 1708, NA: 0    </td><td>FALSE                                     </td></tr>\n",
       "\t<tr><td><span style=white-space:pre-wrap>income        </span>                                  </td><td><span style=white-space:pre-wrap>0  </span>                                             </td><td>17841                                                                                   </td><td>17841                                                                                   </td><td>2                                                                                       </td><td><span style=white-space:pre-wrap> &lt;=: 10000,  &gt;5: 7841, NA: 0              </span></td><td>TRUE                                                                                    </td></tr>\n",
       "\t<tr><td>marital-status                            </td><td>0                                         </td><td>17841                                     </td><td>17841                                     </td><td>4                                         </td><td>Mar: 10061,  Ne: 4568, Not: 2747,  Wi: 465</td><td>FALSE                                     </td></tr>\n",
       "\t<tr><td>native-country                            </td><td>322                                       </td><td>17519                                     </td><td>17841                                     </td><td>8                                         </td><td>USA: 16097, Cen: 543, Asi: 381, NA: 322   </td><td>FALSE                                     </td></tr>\n",
       "\t<tr><td>race                                      </td><td>0                                         </td><td>17841                                     </td><td>17841                                     </td><td>5                                         </td><td> Wh: 15523,  Bl: 1468,  As: 593,  Am: 136 </td><td>FALSE                                     </td></tr>\n",
       "\t<tr><td>sex                                       </td><td>0                                         </td><td>17841                                     </td><td>17841                                     </td><td>2                                         </td><td> Ma: 12795,  Fe: 5046, NA: 0              </td><td>FALSE                                     </td></tr>\n",
       "\t<tr><td>workclass                                 </td><td>818                                       </td><td>17023                                     </td><td>17841                                     </td><td>5                                         </td><td> Pr: 12196, Gov: 2547, Sel: 2273, NA: 818 </td><td>FALSE                                     </td></tr>\n",
       "</tbody>\n",
       "</table>\n"
      ],
      "text/latex": [
       "\\textbf{\\$factor} = \\begin{tabular}{r|lllllll}\n",
       " variable & missing & complete & n & n\\_unique & top\\_counts & ordered\\\\\n",
       "\\hline\n",
       "\t age                                        & 0                                          & 17841                                      & 17841                                      & 4                                          & Mid: 9372, Sen: 5269, You: 2617, Old: 583  & FALSE                                     \\\\\n",
       "\t capital-gain                               & 0                                          & 17841                                      & 17841                                      & 3                                          & Non: 15746, Hig: 1143, Low: 952, NA: 0     & FALSE                                     \\\\\n",
       "\t capital-loss                               & 0                                          & 17841                                      & 17841                                      & 3                                          & Non: 16758, Hig: 596, Low: 487, NA: 0      & FALSE                                     \\\\\n",
       "\t education                                  & 0                                          & 17841                                      & 17841                                      & 7                                          & Sch: 7045,  So: 3790,  Ba: 3500, Ass: 1396 & TRUE                                      \\\\\n",
       "\t hours-per-week                             & 0                                          & 17841                                      & 17841                                      & 3                                          & Ful: 9914, Ove: 6219, Par: 1708, NA: 0     & FALSE                                     \\\\\n",
       "\t income                                     & 0                                          & 17841                                      & 17841                                      & 2                                          &  <=: 10000,  >5: 7841, NA: 0               & TRUE                                      \\\\\n",
       "\t marital-status                             & 0                                          & 17841                                      & 17841                                      & 4                                          & Mar: 10061,  Ne: 4568, Not: 2747,  Wi: 465 & FALSE                                     \\\\\n",
       "\t native-country                             & 322                                        & 17519                                      & 17841                                      & 8                                          & USA: 16097, Cen: 543, Asi: 381, NA: 322    & FALSE                                     \\\\\n",
       "\t race                                       & 0                                          & 17841                                      & 17841                                      & 5                                          &  Wh: 15523,  Bl: 1468,  As: 593,  Am: 136  & FALSE                                     \\\\\n",
       "\t sex                                        & 0                                          & 17841                                      & 17841                                      & 2                                          &  Ma: 12795,  Fe: 5046, NA: 0               & FALSE                                     \\\\\n",
       "\t workclass                                  & 818                                        & 17023                                      & 17841                                      & 5                                          &  Pr: 12196, Gov: 2547, Sel: 2273, NA: 818  & FALSE                                     \\\\\n",
       "\\end{tabular}\n"
      ],
      "text/markdown": [
       "**$factor** = \n",
       "| variable | missing | complete | n | n_unique | top_counts | ordered |\n",
       "|---|---|---|---|---|---|---|\n",
       "| age                                        | 0                                          | 17841                                      | 17841                                      | 4                                          | Mid: 9372, Sen: 5269, You: 2617, Old: 583  | FALSE                                      |\n",
       "| capital-gain                               | 0                                          | 17841                                      | 17841                                      | 3                                          | Non: 15746, Hig: 1143, Low: 952, NA: 0     | FALSE                                      |\n",
       "| capital-loss                               | 0                                          | 17841                                      | 17841                                      | 3                                          | Non: 16758, Hig: 596, Low: 487, NA: 0      | FALSE                                      |\n",
       "| education                                  | 0                                          | 17841                                      | 17841                                      | 7                                          | Sch: 7045,  So: 3790,  Ba: 3500, Ass: 1396 | TRUE                                       |\n",
       "| hours-per-week                             | 0                                          | 17841                                      | 17841                                      | 3                                          | Ful: 9914, Ove: 6219, Par: 1708, NA: 0     | FALSE                                      |\n",
       "| income                                     | 0                                          | 17841                                      | 17841                                      | 2                                          |  <=: 10000,  >5: 7841, NA: 0               | TRUE                                       |\n",
       "| marital-status                             | 0                                          | 17841                                      | 17841                                      | 4                                          | Mar: 10061,  Ne: 4568, Not: 2747,  Wi: 465 | FALSE                                      |\n",
       "| native-country                             | 322                                        | 17519                                      | 17841                                      | 8                                          | USA: 16097, Cen: 543, Asi: 381, NA: 322    | FALSE                                      |\n",
       "| race                                       | 0                                          | 17841                                      | 17841                                      | 5                                          |  Wh: 15523,  Bl: 1468,  As: 593,  Am: 136  | FALSE                                      |\n",
       "| sex                                        | 0                                          | 17841                                      | 17841                                      | 2                                          |  Ma: 12795,  Fe: 5046, NA: 0               | FALSE                                      |\n",
       "| workclass                                  | 818                                        | 17023                                      | 17841                                      | 5                                          |  Pr: 12196, Gov: 2547, Sel: 2273, NA: 818  | FALSE                                      |\n",
       "\n"
      ],
      "text/plain": [
       "$factor\n",
       "# A tibble: 11 x 7\n",
       "   variable    missing complete n     n_unique top_counts                ordered\n",
       " * <chr>       <chr>   <chr>    <chr> <chr>    <chr>                     <chr>  \n",
       " 1 age         0       17841    17841 4        Mid: 9372, Sen: 5269, Yo… FALSE  \n",
       " 2 capital-ga… 0       17841    17841 3        Non: 15746, Hig: 1143, L… FALSE  \n",
       " 3 capital-lo… 0       17841    17841 3        Non: 16758, Hig: 596, Lo… FALSE  \n",
       " 4 education   0       17841    17841 7        Sch: 7045,  So: 3790,  B… TRUE   \n",
       " 5 hours-per-… 0       17841    17841 3        Ful: 9914, Ove: 6219, Pa… FALSE  \n",
       " 6 income      0       17841    17841 2        \" <=: 10000,  >5: 7841, … TRUE   \n",
       " 7 marital-st… 0       17841    17841 4        Mar: 10061,  Ne: 4568, N… FALSE  \n",
       " 8 native-cou… 322     17519    17841 8        USA: 16097, Cen: 543, As… FALSE  \n",
       " 9 race        0       17841    17841 5        \" Wh: 15523,  Bl: 1468, … FALSE  \n",
       "10 sex         0       17841    17841 2        \" Ma: 12795,  Fe: 5046, … FALSE  \n",
       "11 workclass   818     17023    17841 5        \" Pr: 12196, Gov: 2547, … FALSE  \n"
      ]
     },
     "metadata": {},
     "output_type": "display_data"
    }
   ],
   "source": [
    "skim_to_list(data)"
   ]
  },
  {
   "cell_type": "markdown",
   "metadata": {},
   "source": [
    "Dealing with missing values by finding the closest sample."
   ]
  },
  {
   "cell_type": "code",
   "execution_count": 21,
   "metadata": {},
   "outputs": [],
   "source": [
    "workclass_na <- dplyr::filter(data, is.na(workclass) & !is.na(`native-country`))\n",
    "country_na <- dplyr::filter(data, is.na(`native-country`) & !is.na(workclass))"
   ]
  },
  {
   "cell_type": "code",
   "execution_count": 22,
   "metadata": {},
   "outputs": [],
   "source": [
    "data <- data[complete.cases(data), ]"
   ]
  },
  {
   "cell_type": "code",
   "execution_count": 23,
   "metadata": {},
   "outputs": [],
   "source": [
    "workclass_na$workclass <- 0\n",
    "country_na$`native-country` <- 0"
   ]
  },
  {
   "cell_type": "code",
   "execution_count": 24,
   "metadata": {},
   "outputs": [],
   "source": [
    "closest <- function(x, column) {\n",
    "    return(data[which.min(Reduce(`+`, Map(stringdist, data, x, method='jaccard'))),][, column])\n",
    "}\n",
    "\n",
    "workclass_na$workclass <- apply(workclass_na, 1, closest, 'workclass')\n",
    "country_na$`native-country` <- apply(country_na, 1, closest, 'native-country')"
   ]
  },
  {
   "cell_type": "code",
   "execution_count": 25,
   "metadata": {},
   "outputs": [],
   "source": [
    "data <- rbind(data, workclass_na, country_na)\n",
    "data <- slice(data, sample(1:n()))\n",
    "rownames(data) <- NULL"
   ]
  },
  {
   "cell_type": "code",
   "execution_count": 26,
   "metadata": {},
   "outputs": [],
   "source": [
    "# mode <- function(x) {\n",
    "#     ux <- unique(x)\n",
    "#     ux[which.max(tabulate(match(x, ux)))]\n",
    "# }\n",
    "\n",
    "# data <- replace_na(data=data,\n",
    "#                    replace=list(workclass = mode(data$workclass),\n",
    "#                                 `native-country` = mode(data$`native-country`)))"
   ]
  },
  {
   "cell_type": "code",
   "execution_count": 27,
   "metadata": {},
   "outputs": [
    {
     "data": {
      "text/html": [
       "<table>\n",
       "<thead><tr><th scope=col>age</th><th scope=col>workclass</th><th scope=col>education</th><th scope=col>marital-status</th><th scope=col>race</th><th scope=col>sex</th><th scope=col>capital-gain</th><th scope=col>capital-loss</th><th scope=col>hours-per-week</th><th scope=col>native-country</th><th scope=col>income</th></tr></thead>\n",
       "<tbody>\n",
       "\t<tr><td>Middle-aged                                                </td><td><span style=white-space:pre-wrap>Gov     </span>           </td><td> Some-college                                              </td><td><span style=white-space:pre-wrap>Married    </span>        </td><td><span style=white-space:pre-wrap> White             </span></td><td><span style=white-space:pre-wrap> Male  </span>            </td><td>None                                                       </td><td>None                                                       </td><td>Full-time                                                  </td><td><span style=white-space:pre-wrap>USA            </span>    </td><td> &gt;50K                                                   </td></tr>\n",
       "\t<tr><td>Middle-aged                                                </td><td><span style=white-space:pre-wrap>Gov     </span>           </td><td> Some-college                                              </td><td><span style=white-space:pre-wrap>Married    </span>        </td><td><span style=white-space:pre-wrap> White             </span></td><td><span style=white-space:pre-wrap> Male  </span>            </td><td>None                                                       </td><td>None                                                       </td><td>Over-time                                                  </td><td><span style=white-space:pre-wrap>USA            </span>    </td><td> &gt;50K                                                   </td></tr>\n",
       "\t<tr><td>Middle-aged                                                </td><td> Private                                                   </td><td><span style=white-space:pre-wrap>School       </span>      </td><td><span style=white-space:pre-wrap>Married    </span>        </td><td><span style=white-space:pre-wrap> White             </span></td><td><span style=white-space:pre-wrap> Male  </span>            </td><td>None                                                       </td><td>None                                                       </td><td>Full-time                                                  </td><td>Central_America                                            </td><td> &lt;=50K                                                  </td></tr>\n",
       "\t<tr><td><span style=white-space:pre-wrap>Senior     </span>        </td><td> Private                                                   </td><td><span style=white-space:pre-wrap>School       </span>      </td><td>Not_married                                                </td><td><span style=white-space:pre-wrap> White             </span></td><td> Female                                                    </td><td>None                                                       </td><td>None                                                       </td><td>Full-time                                                  </td><td><span style=white-space:pre-wrap>USA            </span>    </td><td> &lt;=50K                                                  </td></tr>\n",
       "\t<tr><td><span style=white-space:pre-wrap>Senior     </span>    </td><td> Private                                               </td><td> Prof-school                                           </td><td>Not_married                                            </td><td> Asian-Pac-Islander                                    </td><td> Female                                                </td><td>None                                                   </td><td>None                                                   </td><td>Full-time                                              </td><td><span style=white-space:pre-wrap>Asia           </span></td><td> &lt;=50K                                              </td></tr>\n",
       "\t<tr><td>Middle-aged                                            </td><td><span style=white-space:pre-wrap>Gov     </span>       </td><td><span style=white-space:pre-wrap>Associates   </span>  </td><td>Not_married                                            </td><td> Asian-Pac-Islander                                    </td><td> Female                                                </td><td>None                                                   </td><td>None                                                   </td><td>Full-time                                              </td><td><span style=white-space:pre-wrap>USA            </span></td><td> &lt;=50K                                              </td></tr>\n",
       "</tbody>\n",
       "</table>\n"
      ],
      "text/latex": [
       "\\begin{tabular}{r|lllllllllll}\n",
       " age & workclass & education & marital-status & race & sex & capital-gain & capital-loss & hours-per-week & native-country & income\\\\\n",
       "\\hline\n",
       "\t Middle-aged         & Gov                 &  Some-college       & Married             &  White              &  Male               & None                & None                & Full-time           & USA                 &  >50K              \\\\\n",
       "\t Middle-aged         & Gov                 &  Some-college       & Married             &  White              &  Male               & None                & None                & Over-time           & USA                 &  >50K              \\\\\n",
       "\t Middle-aged         &  Private            & School              & Married             &  White              &  Male               & None                & None                & Full-time           & Central\\_America   &  <=50K             \\\\\n",
       "\t Senior              &  Private            & School              & Not\\_married       &  White              &  Female             & None                & None                & Full-time           & USA                 &  <=50K             \\\\\n",
       "\t Senior              &  Private            &  Prof-school        & Not\\_married       &  Asian-Pac-Islander &  Female             & None                & None                & Full-time           & Asia                &  <=50K             \\\\\n",
       "\t Middle-aged         & Gov                 & Associates          & Not\\_married       &  Asian-Pac-Islander &  Female             & None                & None                & Full-time           & USA                 &  <=50K             \\\\\n",
       "\\end{tabular}\n"
      ],
      "text/markdown": [
       "\n",
       "| age | workclass | education | marital-status | race | sex | capital-gain | capital-loss | hours-per-week | native-country | income |\n",
       "|---|---|---|---|---|---|---|---|---|---|---|\n",
       "| Middle-aged         | Gov                 |  Some-college       | Married             |  White              |  Male               | None                | None                | Full-time           | USA                 |  >50K               |\n",
       "| Middle-aged         | Gov                 |  Some-college       | Married             |  White              |  Male               | None                | None                | Over-time           | USA                 |  >50K               |\n",
       "| Middle-aged         |  Private            | School              | Married             |  White              |  Male               | None                | None                | Full-time           | Central_America     |  <=50K              |\n",
       "| Senior              |  Private            | School              | Not_married         |  White              |  Female             | None                | None                | Full-time           | USA                 |  <=50K              |\n",
       "| Senior              |  Private            |  Prof-school        | Not_married         |  Asian-Pac-Islander |  Female             | None                | None                | Full-time           | Asia                |  <=50K              |\n",
       "| Middle-aged         | Gov                 | Associates          | Not_married         |  Asian-Pac-Islander |  Female             | None                | None                | Full-time           | USA                 |  <=50K              |\n",
       "\n"
      ],
      "text/plain": [
       "  age         workclass education     marital-status race               \n",
       "1 Middle-aged Gov        Some-college Married         White             \n",
       "2 Middle-aged Gov        Some-college Married         White             \n",
       "3 Middle-aged  Private  School        Married         White             \n",
       "4 Senior       Private  School        Not_married     White             \n",
       "5 Senior       Private   Prof-school  Not_married     Asian-Pac-Islander\n",
       "6 Middle-aged Gov       Associates    Not_married     Asian-Pac-Islander\n",
       "  sex     capital-gain capital-loss hours-per-week native-country  income\n",
       "1  Male   None         None         Full-time      USA              >50K \n",
       "2  Male   None         None         Over-time      USA              >50K \n",
       "3  Male   None         None         Full-time      Central_America  <=50K\n",
       "4  Female None         None         Full-time      USA              <=50K\n",
       "5  Female None         None         Full-time      Asia             <=50K\n",
       "6  Female None         None         Full-time      USA              <=50K"
      ]
     },
     "metadata": {},
     "output_type": "display_data"
    }
   ],
   "source": [
    "head(data)"
   ]
  },
  {
   "cell_type": "code",
   "execution_count": 28,
   "metadata": {},
   "outputs": [
    {
     "data": {
      "text/html": [
       "<strong>$factor</strong> = <table>\n",
       "<thead><tr><th scope=col>variable</th><th scope=col>missing</th><th scope=col>complete</th><th scope=col>n</th><th scope=col>n_unique</th><th scope=col>top_counts</th><th scope=col>ordered</th></tr></thead>\n",
       "<tbody>\n",
       "\t<tr><td>age                                       </td><td>0                                         </td><td>17828                                     </td><td>17828                                     </td><td>4                                         </td><td>Mid: 9365, Sen: 5266, You: 2615, Old: 582 </td><td>FALSE                                     </td></tr>\n",
       "\t<tr><td>capital-gain                              </td><td>0                                         </td><td>17828                                     </td><td>17828                                     </td><td>3                                         </td><td>Non: 15734, Hig: 1142, Low: 952, NA: 0    </td><td>FALSE                                     </td></tr>\n",
       "\t<tr><td>capital-loss                              </td><td>0                                         </td><td>17828                                     </td><td>17828                                     </td><td>3                                         </td><td>Non: 16745, Hig: 596, Low: 487, NA: 0     </td><td>FALSE                                     </td></tr>\n",
       "\t<tr><td>education                                 </td><td>0                                         </td><td>17828                                     </td><td>17828                                     </td><td>7                                         </td><td>Sch: 7039,  So: 3788,  Ba: 3496, Ass: 1395</td><td>TRUE                                      </td></tr>\n",
       "\t<tr><td>hours-per-week                            </td><td>0                                         </td><td>17828                                     </td><td>17828                                     </td><td>3                                         </td><td>Ful: 9908, Ove: 6215, Par: 1705, NA: 0    </td><td>FALSE                                     </td></tr>\n",
       "\t<tr><td><span style=white-space:pre-wrap>income        </span>                                  </td><td>0                                                                                       </td><td>17828                                                                                   </td><td>17828                                                                                   </td><td>2                                                                                       </td><td><span style=white-space:pre-wrap> &lt;=: 9991,  &gt;5: 7837, NA: 0               </span></td><td>TRUE                                                                                    </td></tr>\n",
       "\t<tr><td>marital-status                            </td><td>0                                         </td><td>17828                                     </td><td>17828                                     </td><td>4                                         </td><td>Mar: 10055,  Ne: 4566, Not: 2742,  Wi: 465</td><td>FALSE                                     </td></tr>\n",
       "\t<tr><td>native-country                            </td><td>0                                         </td><td>17828                                     </td><td>17828                                     </td><td>8                                         </td><td>USA: 16360, Cen: 548, Asi: 405, Eur: 301  </td><td>FALSE                                     </td></tr>\n",
       "\t<tr><td>race                                      </td><td>0                                         </td><td>17828                                     </td><td>17828                                     </td><td>5                                         </td><td> Wh: 15514,  Bl: 1467,  As: 591,  Am: 136 </td><td>FALSE                                     </td></tr>\n",
       "\t<tr><td>sex                                       </td><td>0                                         </td><td>17828                                     </td><td>17828                                     </td><td>2                                         </td><td> Ma: 12789,  Fe: 5039, NA: 0              </td><td>FALSE                                     </td></tr>\n",
       "\t<tr><td>workclass                                 </td><td>0                                         </td><td>17828                                     </td><td>17828                                     </td><td>5                                         </td><td> Pr: 12812, Gov: 2630, Sel: 2379,  Wi: 4  </td><td>FALSE                                     </td></tr>\n",
       "</tbody>\n",
       "</table>\n"
      ],
      "text/latex": [
       "\\textbf{\\$factor} = \\begin{tabular}{r|lllllll}\n",
       " variable & missing & complete & n & n\\_unique & top\\_counts & ordered\\\\\n",
       "\\hline\n",
       "\t age                                        & 0                                          & 17828                                      & 17828                                      & 4                                          & Mid: 9365, Sen: 5266, You: 2615, Old: 582  & FALSE                                     \\\\\n",
       "\t capital-gain                               & 0                                          & 17828                                      & 17828                                      & 3                                          & Non: 15734, Hig: 1142, Low: 952, NA: 0     & FALSE                                     \\\\\n",
       "\t capital-loss                               & 0                                          & 17828                                      & 17828                                      & 3                                          & Non: 16745, Hig: 596, Low: 487, NA: 0      & FALSE                                     \\\\\n",
       "\t education                                  & 0                                          & 17828                                      & 17828                                      & 7                                          & Sch: 7039,  So: 3788,  Ba: 3496, Ass: 1395 & TRUE                                      \\\\\n",
       "\t hours-per-week                             & 0                                          & 17828                                      & 17828                                      & 3                                          & Ful: 9908, Ove: 6215, Par: 1705, NA: 0     & FALSE                                     \\\\\n",
       "\t income                                     & 0                                          & 17828                                      & 17828                                      & 2                                          &  <=: 9991,  >5: 7837, NA: 0                & TRUE                                      \\\\\n",
       "\t marital-status                             & 0                                          & 17828                                      & 17828                                      & 4                                          & Mar: 10055,  Ne: 4566, Not: 2742,  Wi: 465 & FALSE                                     \\\\\n",
       "\t native-country                             & 0                                          & 17828                                      & 17828                                      & 8                                          & USA: 16360, Cen: 548, Asi: 405, Eur: 301   & FALSE                                     \\\\\n",
       "\t race                                       & 0                                          & 17828                                      & 17828                                      & 5                                          &  Wh: 15514,  Bl: 1467,  As: 591,  Am: 136  & FALSE                                     \\\\\n",
       "\t sex                                        & 0                                          & 17828                                      & 17828                                      & 2                                          &  Ma: 12789,  Fe: 5039, NA: 0               & FALSE                                     \\\\\n",
       "\t workclass                                  & 0                                          & 17828                                      & 17828                                      & 5                                          &  Pr: 12812, Gov: 2630, Sel: 2379,  Wi: 4   & FALSE                                     \\\\\n",
       "\\end{tabular}\n"
      ],
      "text/markdown": [
       "**$factor** = \n",
       "| variable | missing | complete | n | n_unique | top_counts | ordered |\n",
       "|---|---|---|---|---|---|---|\n",
       "| age                                        | 0                                          | 17828                                      | 17828                                      | 4                                          | Mid: 9365, Sen: 5266, You: 2615, Old: 582  | FALSE                                      |\n",
       "| capital-gain                               | 0                                          | 17828                                      | 17828                                      | 3                                          | Non: 15734, Hig: 1142, Low: 952, NA: 0     | FALSE                                      |\n",
       "| capital-loss                               | 0                                          | 17828                                      | 17828                                      | 3                                          | Non: 16745, Hig: 596, Low: 487, NA: 0      | FALSE                                      |\n",
       "| education                                  | 0                                          | 17828                                      | 17828                                      | 7                                          | Sch: 7039,  So: 3788,  Ba: 3496, Ass: 1395 | TRUE                                       |\n",
       "| hours-per-week                             | 0                                          | 17828                                      | 17828                                      | 3                                          | Ful: 9908, Ove: 6215, Par: 1705, NA: 0     | FALSE                                      |\n",
       "| income                                     | 0                                          | 17828                                      | 17828                                      | 2                                          |  <=: 9991,  >5: 7837, NA: 0                | TRUE                                       |\n",
       "| marital-status                             | 0                                          | 17828                                      | 17828                                      | 4                                          | Mar: 10055,  Ne: 4566, Not: 2742,  Wi: 465 | FALSE                                      |\n",
       "| native-country                             | 0                                          | 17828                                      | 17828                                      | 8                                          | USA: 16360, Cen: 548, Asi: 405, Eur: 301   | FALSE                                      |\n",
       "| race                                       | 0                                          | 17828                                      | 17828                                      | 5                                          |  Wh: 15514,  Bl: 1467,  As: 591,  Am: 136  | FALSE                                      |\n",
       "| sex                                        | 0                                          | 17828                                      | 17828                                      | 2                                          |  Ma: 12789,  Fe: 5039, NA: 0               | FALSE                                      |\n",
       "| workclass                                  | 0                                          | 17828                                      | 17828                                      | 5                                          |  Pr: 12812, Gov: 2630, Sel: 2379,  Wi: 4   | FALSE                                      |\n",
       "\n"
      ],
      "text/plain": [
       "$factor\n",
       "# A tibble: 11 x 7\n",
       "   variable    missing complete n     n_unique top_counts                ordered\n",
       " * <chr>       <chr>   <chr>    <chr> <chr>    <chr>                     <chr>  \n",
       " 1 age         0       17828    17828 4        Mid: 9365, Sen: 5266, Yo… FALSE  \n",
       " 2 capital-ga… 0       17828    17828 3        Non: 15734, Hig: 1142, L… FALSE  \n",
       " 3 capital-lo… 0       17828    17828 3        Non: 16745, Hig: 596, Lo… FALSE  \n",
       " 4 education   0       17828    17828 7        Sch: 7039,  So: 3788,  B… TRUE   \n",
       " 5 hours-per-… 0       17828    17828 3        Ful: 9908, Ove: 6215, Pa… FALSE  \n",
       " 6 income      0       17828    17828 2        \" <=: 9991,  >5: 7837, N… TRUE   \n",
       " 7 marital-st… 0       17828    17828 4        Mar: 10055,  Ne: 4566, N… FALSE  \n",
       " 8 native-cou… 0       17828    17828 8        USA: 16360, Cen: 548, As… FALSE  \n",
       " 9 race        0       17828    17828 5        \" Wh: 15514,  Bl: 1467, … FALSE  \n",
       "10 sex         0       17828    17828 2        \" Ma: 12789,  Fe: 5039, … FALSE  \n",
       "11 workclass   0       17828    17828 5        \" Pr: 12812, Gov: 2630, … FALSE  \n"
      ]
     },
     "metadata": {},
     "output_type": "display_data"
    }
   ],
   "source": [
    "skim_to_list(data)"
   ]
  },
  {
   "cell_type": "markdown",
   "metadata": {},
   "source": [
    "### II. Build the model"
   ]
  },
  {
   "cell_type": "code",
   "execution_count": 29,
   "metadata": {},
   "outputs": [],
   "source": [
    "set.seed(666)\n",
    "train_rows <- createDataPartition(data$income, p = 0.8, list = F)"
   ]
  },
  {
   "cell_type": "code",
   "execution_count": 30,
   "metadata": {},
   "outputs": [],
   "source": [
    "train <- data[train_rows, ]\n",
    "test <- data[-train_rows, ]"
   ]
  },
  {
   "cell_type": "code",
   "execution_count": 31,
   "metadata": {
    "scrolled": false
   },
   "outputs": [
    {
     "data": {
      "text/plain": [
       "\n",
       "Call:\n",
       "NULL\n",
       "\n",
       "Deviance Residuals: \n",
       "    Min       1Q   Median       3Q      Max  \n",
       "-4.1454  -0.5688  -0.1237   0.6480   2.8983  \n",
       "\n",
       "Coefficients: (1 not defined because of singularities)\n",
       "                                        Estimate Std. Error z value Pr(>|z|)\n",
       "(Intercept)                           -7.643e+11  1.134e+12  -0.674 0.500322\n",
       "ageOld                                -2.500e-01  1.454e-01  -1.720 0.085510\n",
       "ageSenior                              4.505e-01  5.171e-02   8.711  < 2e-16\n",
       "ageYoung                              -1.754e+00  1.380e-01 -12.713  < 2e-16\n",
       "workclassGov                           7.643e+11  1.134e+12   0.674 0.500322\n",
       "workclassNot_working                   7.643e+11  1.134e+12   0.674 0.500322\n",
       "`workclass Private`                    7.643e+11  1.134e+12   0.674 0.500322\n",
       "workclassSelf_employed                 7.643e+11  1.134e+12   0.674 0.500322\n",
       "`workclass Without-pay`                7.643e+11  1.134e+12   0.674 0.500322\n",
       "education.L                            1.619e+00  1.500e-01  10.788  < 2e-16\n",
       "education.Q                            5.160e-01  1.281e-01   4.027 5.65e-05\n",
       "education.C                            1.110e+00  1.285e-01   8.632  < 2e-16\n",
       "`education^4`                         -1.275e+00  1.280e-01  -9.960  < 2e-16\n",
       "`education^5`                          1.037e+00  1.047e-01   9.901  < 2e-16\n",
       "`education^6`                         -3.650e-02  6.968e-02  -0.524 0.600370\n",
       "`\\\\`marital-status\\\\`Married`          2.275e+00  7.697e-02  29.557  < 2e-16\n",
       "`\\\\`marital-status\\\\` Never-married`  -3.590e-01  9.755e-02  -3.680 0.000233\n",
       "`\\\\`marital-status\\\\` Widowed`         3.067e-01  1.737e-01   1.766 0.077449\n",
       "`race Asian-Pac-Islander`              7.062e-01  3.664e-01   1.927 0.053954\n",
       "`race Black`                           3.400e-01  2.999e-01   1.134 0.256981\n",
       "`race Other`                           1.055e-01  4.344e-01   0.243 0.808177\n",
       "`race White`                           6.150e-01  2.876e-01   2.139 0.032465\n",
       "`sex Male`                             1.143e-01  6.427e-02   1.779 0.075246\n",
       "`\\\\`capital-gain\\\\`Low`               -5.706e+00  4.489e-01 -12.710  < 2e-16\n",
       "`\\\\`capital-gain\\\\`None`              -6.208e+00  4.398e-01 -14.115  < 2e-16\n",
       "`\\\\`capital-loss\\\\`Low`               -1.028e+00  2.003e-01  -5.129 2.91e-07\n",
       "`\\\\`capital-loss\\\\`None`              -1.697e+00  1.572e-01 -10.795  < 2e-16\n",
       "`\\\\`hours-per-week\\\\`Over-time`        5.715e-01  5.083e-02  11.243  < 2e-16\n",
       "`\\\\`hours-per-week\\\\`Part-time`       -1.026e+00  1.128e-01  -9.097  < 2e-16\n",
       "`\\\\`native-country\\\\`Asia`             7.330e-01  5.097e-01   1.438 0.150360\n",
       "`\\\\`native-country\\\\` Canada`          9.841e-01  6.339e-01   1.552 0.120556\n",
       "`\\\\`native-country\\\\`South_America`   -2.391e-01  7.419e-01  -0.322 0.747255\n",
       "`\\\\`native-country\\\\`Central_America`  3.377e-01  5.568e-01   0.606 0.544240\n",
       "`\\\\`native-country\\\\`Europe`           1.196e+00  5.622e-01   2.127 0.033398\n",
       "`\\\\`native-country\\\\` Iran`            1.416e+00  7.706e-01   1.837 0.066197\n",
       "`\\\\`native-country\\\\`USA`              1.128e+00  5.368e-01   2.101 0.035628\n",
       "`\\\\`native-country\\\\` South`                  NA         NA      NA       NA\n",
       "                                         \n",
       "(Intercept)                              \n",
       "ageOld                                .  \n",
       "ageSenior                             ***\n",
       "ageYoung                              ***\n",
       "workclassGov                             \n",
       "workclassNot_working                     \n",
       "`workclass Private`                      \n",
       "workclassSelf_employed                   \n",
       "`workclass Without-pay`                  \n",
       "education.L                           ***\n",
       "education.Q                           ***\n",
       "education.C                           ***\n",
       "`education^4`                         ***\n",
       "`education^5`                         ***\n",
       "`education^6`                            \n",
       "`\\\\`marital-status\\\\`Married`         ***\n",
       "`\\\\`marital-status\\\\` Never-married`  ***\n",
       "`\\\\`marital-status\\\\` Widowed`        .  \n",
       "`race Asian-Pac-Islander`             .  \n",
       "`race Black`                             \n",
       "`race Other`                             \n",
       "`race White`                          *  \n",
       "`sex Male`                            .  \n",
       "`\\\\`capital-gain\\\\`Low`               ***\n",
       "`\\\\`capital-gain\\\\`None`              ***\n",
       "`\\\\`capital-loss\\\\`Low`               ***\n",
       "`\\\\`capital-loss\\\\`None`              ***\n",
       "`\\\\`hours-per-week\\\\`Over-time`       ***\n",
       "`\\\\`hours-per-week\\\\`Part-time`       ***\n",
       "`\\\\`native-country\\\\`Asia`               \n",
       "`\\\\`native-country\\\\` Canada`            \n",
       "`\\\\`native-country\\\\`South_America`      \n",
       "`\\\\`native-country\\\\`Central_America`    \n",
       "`\\\\`native-country\\\\`Europe`          *  \n",
       "`\\\\`native-country\\\\` Iran`           .  \n",
       "`\\\\`native-country\\\\`USA`             *  \n",
       "`\\\\`native-country\\\\` South`             \n",
       "---\n",
       "Signif. codes:  0 ‘***’ 0.001 ‘**’ 0.01 ‘*’ 0.05 ‘.’ 0.1 ‘ ’ 1\n",
       "\n",
       "(Dispersion parameter for binomial family taken to be 1)\n",
       "\n",
       "    Null deviance: 19564  on 14262  degrees of freedom\n",
       "Residual deviance: 11323  on 14227  degrees of freedom\n",
       "AIC: 11395\n",
       "\n",
       "Number of Fisher Scoring iterations: 25\n"
      ]
     },
     "metadata": {},
     "output_type": "display_data"
    }
   ],
   "source": [
    "model <- train(data = train, income ~ ., family = binomial(link = 'logit'), method = 'glm')\n",
    "summary(model)"
   ]
  },
  {
   "cell_type": "code",
   "execution_count": 32,
   "metadata": {
    "scrolled": true
   },
   "outputs": [],
   "source": [
    "preds <- predict(model, test)"
   ]
  },
  {
   "cell_type": "code",
   "execution_count": 33,
   "metadata": {},
   "outputs": [
    {
     "data": {
      "text/plain": [
       "Confusion Matrix and Statistics\n",
       "\n",
       "          Reference\n",
       "Prediction  <=50K  >50K\n",
       "     <=50K   1628   318\n",
       "     >50K     370  1249\n",
       "                                          \n",
       "               Accuracy : 0.807           \n",
       "                 95% CI : (0.7937, 0.8199)\n",
       "    No Information Rate : 0.5604          \n",
       "    P-Value [Acc > NIR] : < 2e-16         \n",
       "                                          \n",
       "                  Kappa : 0.6097          \n",
       "                                          \n",
       " Mcnemar's Test P-Value : 0.05185         \n",
       "                                          \n",
       "            Sensitivity : 0.8148          \n",
       "            Specificity : 0.7971          \n",
       "         Pos Pred Value : 0.8366          \n",
       "         Neg Pred Value : 0.7715          \n",
       "             Prevalence : 0.5604          \n",
       "         Detection Rate : 0.4567          \n",
       "   Detection Prevalence : 0.5459          \n",
       "      Balanced Accuracy : 0.8059          \n",
       "                                          \n",
       "       'Positive' Class :  <=50K          \n",
       "                                          "
      ]
     },
     "metadata": {},
     "output_type": "display_data"
    }
   ],
   "source": [
    "confusionMatrix(data = preds, reference = test$income)"
   ]
  },
  {
   "cell_type": "code",
   "execution_count": 34,
   "metadata": {},
   "outputs": [],
   "source": [
    "probs <- predict(model, newdata = test, type = 'prob')\n",
    "test_set <- data.frame(' <=50K' = probs$` <=50K`, ' >50K' = probs$` >50K`, pred = preds, obs = test$income)"
   ]
  },
  {
   "cell_type": "code",
   "execution_count": 35,
   "metadata": {},
   "outputs": [
    {
     "data": {
      "text/html": [
       "<dl class=dl-horizontal>\n",
       "\t<dt>Precision</dt>\n",
       "\t\t<dd>0.836587872559096</dd>\n",
       "\t<dt>Recall</dt>\n",
       "\t\t<dd>0.814814814814815</dd>\n",
       "\t<dt>F</dt>\n",
       "\t\t<dd>0.825557809330629</dd>\n",
       "</dl>\n"
      ],
      "text/latex": [
       "\\begin{description*}\n",
       "\\item[Precision] 0.836587872559096\n",
       "\\item[Recall] 0.814814814814815\n",
       "\\item[F] 0.825557809330629\n",
       "\\end{description*}\n"
      ],
      "text/markdown": [
       "Precision\n",
       ":   0.836587872559096Recall\n",
       ":   0.814814814814815F\n",
       ":   0.825557809330629\n",
       "\n"
      ],
      "text/plain": [
       "Precision    Recall         F \n",
       "0.8365879 0.8148148 0.8255578 "
      ]
     },
     "metadata": {},
     "output_type": "display_data"
    }
   ],
   "source": [
    "prSummary(test_set, lev = levels(test_set$obs))[2:4]"
   ]
  },
  {
   "cell_type": "code",
   "execution_count": null,
   "metadata": {},
   "outputs": [],
   "source": []
  }
 ],
 "metadata": {
  "kernelspec": {
   "display_name": "R",
   "language": "R",
   "name": "ir"
  },
  "language_info": {
   "codemirror_mode": "r",
   "file_extension": ".r",
   "mimetype": "text/x-r-source",
   "name": "R",
   "pygments_lexer": "r",
   "version": "3.4.4"
  }
 },
 "nbformat": 4,
 "nbformat_minor": 2
}
